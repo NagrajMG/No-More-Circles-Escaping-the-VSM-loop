{
 "cells": [
  {
   "cell_type": "code",
   "execution_count": 1,
   "id": "d0bf4346",
   "metadata": {},
   "outputs": [
    {
     "name": "stderr",
     "output_type": "stream",
     "text": [
      "[nltk_data] Downloading package averaged_perceptron_tagger_eng to\n",
      "[nltk_data]     C:\\Users\\HP\\AppData\\Roaming\\nltk_data...\n",
      "[nltk_data]   Package averaged_perceptron_tagger_eng is already up-to-\n",
      "[nltk_data]       date!\n",
      "[nltk_data] Downloading package wordnet to\n",
      "[nltk_data]     C:\\Users\\HP\\AppData\\Roaming\\nltk_data...\n",
      "[nltk_data]   Package wordnet is already up-to-date!\n",
      "[nltk_data] Downloading package stopwords to\n",
      "[nltk_data]     C:\\Users\\HP\\AppData\\Roaming\\nltk_data...\n",
      "[nltk_data]   Package stopwords is already up-to-date!\n",
      "[nltk_data] Downloading package punkt to\n",
      "[nltk_data]     C:\\Users\\HP\\AppData\\Roaming\\nltk_data...\n",
      "[nltk_data]   Package punkt is already up-to-date!\n"
     ]
    }
   ],
   "source": [
    "from util import *\n",
    "from scipy.stats import ttest_rel"
   ]
  },
  {
   "cell_type": "code",
   "execution_count": 3,
   "id": "2b1c2289",
   "metadata": {},
   "outputs": [],
   "source": [
    "lsi_df = pd.read_csv(\"../TestScores/recallLSI.csv\")\n",
    "vsm_df = pd.read_csv(\"../TestScores/recallVSM.csv\")"
   ]
  },
  {
   "cell_type": "code",
   "execution_count": 4,
   "id": "4ebfcf9d",
   "metadata": {},
   "outputs": [],
   "source": [
    "lsi_df = lsi_df.sort_values(by=\"query_id\")\n",
    "vsm_df = vsm_df.sort_values(by=\"query_id\")"
   ]
  },
  {
   "cell_type": "code",
   "execution_count": 5,
   "id": "618d4753",
   "metadata": {},
   "outputs": [],
   "source": [
    "recall_lsi = lsi_df[\"recall\"].tolist()\n",
    "recall_vsm = vsm_df[\"recall\"].tolist()"
   ]
  },
  {
   "cell_type": "code",
   "execution_count": 6,
   "id": "1febb2df",
   "metadata": {},
   "outputs": [],
   "source": [
    "t_stat, p_value = ttest_rel(recall_lsi, recall_vsm)"
   ]
  },
  {
   "cell_type": "code",
   "execution_count": 7,
   "id": "4e4099bc",
   "metadata": {},
   "outputs": [
    {
     "name": "stdout",
     "output_type": "stream",
     "text": [
      "Paired t-test\n",
      "t = 4.0514465917, p = 0.0000701958\n",
      "Statistically significant difference (p < 0.05)\n"
     ]
    }
   ],
   "source": [
    "print(f\"Paired t-test\")\n",
    "print(f\"t = {t_stat:.10f}, p = {p_value:.10f}\")\n",
    "if float(p_value) < 0.05:\n",
    "    print(\"Statistically significant difference (p < 0.05)\")\n",
    "else:\n",
    "    print(\"No significant difference (p ≥ 0.05)\")"
   ]
  }
 ],
 "metadata": {
  "kernelspec": {
   "display_name": "base",
   "language": "python",
   "name": "python3"
  },
  "language_info": {
   "codemirror_mode": {
    "name": "ipython",
    "version": 3
   },
   "file_extension": ".py",
   "mimetype": "text/x-python",
   "name": "python",
   "nbconvert_exporter": "python",
   "pygments_lexer": "ipython3",
   "version": "3.11.7"
  }
 },
 "nbformat": 4,
 "nbformat_minor": 5
}
