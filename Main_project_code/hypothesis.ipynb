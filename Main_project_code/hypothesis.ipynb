{
 "cells": [
  {
   "cell_type": "code",
   "execution_count": 9,
   "id": "d0bf4346",
   "metadata": {},
   "outputs": [],
   "source": [
    "from util import *\n",
    "from scipy.stats import ttest_rel"
   ]
  },
  {
   "cell_type": "code",
   "execution_count": 3,
   "id": "2b1c2289",
   "metadata": {},
   "outputs": [],
   "source": [
    "lsi_df = pd.read_csv(\"../TestScores/recallLSI.csv\")\n",
    "vsm_df = pd.read_csv(\"../TestScores/recallVSM.csv\")"
   ]
  },
  {
   "cell_type": "code",
   "execution_count": 4,
   "id": "b397e472",
   "metadata": {},
   "outputs": [
    {
     "data": {
      "text/html": [
       "<div>\n",
       "<style scoped>\n",
       "    .dataframe tbody tr th:only-of-type {\n",
       "        vertical-align: middle;\n",
       "    }\n",
       "\n",
       "    .dataframe tbody tr th {\n",
       "        vertical-align: top;\n",
       "    }\n",
       "\n",
       "    .dataframe thead th {\n",
       "        text-align: right;\n",
       "    }\n",
       "</style>\n",
       "<table border=\"1\" class=\"dataframe\">\n",
       "  <thead>\n",
       "    <tr style=\"text-align: right;\">\n",
       "      <th></th>\n",
       "      <th>query_id</th>\n",
       "      <th>recall</th>\n",
       "    </tr>\n",
       "  </thead>\n",
       "  <tbody>\n",
       "    <tr>\n",
       "      <th>0</th>\n",
       "      <td>1</td>\n",
       "      <td>0.2414</td>\n",
       "    </tr>\n",
       "    <tr>\n",
       "      <th>1</th>\n",
       "      <td>2</td>\n",
       "      <td>0.0800</td>\n",
       "    </tr>\n",
       "    <tr>\n",
       "      <th>2</th>\n",
       "      <td>3</td>\n",
       "      <td>1.0000</td>\n",
       "    </tr>\n",
       "    <tr>\n",
       "      <th>3</th>\n",
       "      <td>4</td>\n",
       "      <td>1.0000</td>\n",
       "    </tr>\n",
       "    <tr>\n",
       "      <th>4</th>\n",
       "      <td>5</td>\n",
       "      <td>0.6000</td>\n",
       "    </tr>\n",
       "    <tr>\n",
       "      <th>...</th>\n",
       "      <td>...</td>\n",
       "      <td>...</td>\n",
       "    </tr>\n",
       "    <tr>\n",
       "      <th>220</th>\n",
       "      <td>221</td>\n",
       "      <td>0.2632</td>\n",
       "    </tr>\n",
       "    <tr>\n",
       "      <th>221</th>\n",
       "      <td>222</td>\n",
       "      <td>0.7000</td>\n",
       "    </tr>\n",
       "    <tr>\n",
       "      <th>222</th>\n",
       "      <td>223</td>\n",
       "      <td>0.4000</td>\n",
       "    </tr>\n",
       "    <tr>\n",
       "      <th>223</th>\n",
       "      <td>224</td>\n",
       "      <td>0.1111</td>\n",
       "    </tr>\n",
       "    <tr>\n",
       "      <th>224</th>\n",
       "      <td>225</td>\n",
       "      <td>0.0400</td>\n",
       "    </tr>\n",
       "  </tbody>\n",
       "</table>\n",
       "<p>225 rows × 2 columns</p>\n",
       "</div>"
      ],
      "text/plain": [
       "     query_id  recall\n",
       "0           1  0.2414\n",
       "1           2  0.0800\n",
       "2           3  1.0000\n",
       "3           4  1.0000\n",
       "4           5  0.6000\n",
       "..        ...     ...\n",
       "220       221  0.2632\n",
       "221       222  0.7000\n",
       "222       223  0.4000\n",
       "223       224  0.1111\n",
       "224       225  0.0400\n",
       "\n",
       "[225 rows x 2 columns]"
      ]
     },
     "execution_count": 4,
     "metadata": {},
     "output_type": "execute_result"
    }
   ],
   "source": [
    "lsi_df"
   ]
  },
  {
   "cell_type": "code",
   "execution_count": 5,
   "id": "4ebfcf9d",
   "metadata": {},
   "outputs": [],
   "source": [
    "lsi_df = lsi_df.sort_values(by=\"query_id\")\n",
    "vsm_df = vsm_df.sort_values(by=\"query_id\")"
   ]
  },
  {
   "cell_type": "code",
   "execution_count": 6,
   "id": "618d4753",
   "metadata": {},
   "outputs": [],
   "source": [
    "recall_lsi = lsi_df[\"recall\"].tolist()\n",
    "recall_vsm = vsm_df[\"recall\"].tolist()"
   ]
  },
  {
   "cell_type": "code",
   "execution_count": 10,
   "id": "1febb2df",
   "metadata": {},
   "outputs": [],
   "source": [
    "t_stat, p_value = ttest_rel(recall_lsi, recall_vsm)"
   ]
  },
  {
   "cell_type": "code",
   "execution_count": 14,
   "id": "4e4099bc",
   "metadata": {},
   "outputs": [
    {
     "name": "stdout",
     "output_type": "stream",
     "text": [
      "Paired t-test on Recall@k\n",
      "t = 4.4867335960, p = 0.0000115616\n",
      "Statistically significant difference (p < 0.05)\n"
     ]
    }
   ],
   "source": [
    "print(f\"Paired t-test on Recall@k\")\n",
    "print(f\"t = {t_stat:.10f}, p = {p_value:.10f}\")\n",
    "if float(p_value) < 0.05:\n",
    "    print(\"Statistically significant difference (p < 0.05)\")\n",
    "else:\n",
    "    print(\"No significant difference (p ≥ 0.05)\")"
   ]
  }
 ],
 "metadata": {
  "kernelspec": {
   "display_name": "base",
   "language": "python",
   "name": "python3"
  },
  "language_info": {
   "codemirror_mode": {
    "name": "ipython",
    "version": 3
   },
   "file_extension": ".py",
   "mimetype": "text/x-python",
   "name": "python",
   "nbconvert_exporter": "python",
   "pygments_lexer": "ipython3",
   "version": "3.11.7"
  }
 },
 "nbformat": 4,
 "nbformat_minor": 5
}
